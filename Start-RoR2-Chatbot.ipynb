{
 "cells": [
  {
   "cell_type": "code",
   "execution_count": null,
   "id": "49446f68-3a62-4ad6-9fd7-8da7dc8d7d1d",
   "metadata": {},
   "outputs": [],
   "source": [
    "pip install twitchio openai requests beautifulsoup4 chromadb asyncio nest_asyncio python-dotenv"
   ]
  },
  {
   "cell_type": "code",
   "execution_count": 2,
   "id": "a1bf6853-bab5-431b-8d23-080249a73b7b",
   "metadata": {},
   "outputs": [
    {
     "data": {
      "text/plain": [
       "True"
      ]
     },
     "execution_count": 2,
     "metadata": {},
     "output_type": "execute_result"
    }
   ],
   "source": [
    "import nest_asyncio\n",
    "nest_asyncio.apply()\n",
    "from dotenv import load_dotenv\n",
    "import os\n",
    "\n",
    "load_dotenv()"
   ]
  },
  {
   "cell_type": "code",
   "execution_count": 3,
   "id": "70c77a86-1a4f-41f5-8daa-bd939ac4a76e",
   "metadata": {},
   "outputs": [],
   "source": [
    "OPENAI_API_KEY = os.getenv('OPENAI_API_KEY')\n",
    "TWITCH_BOT_TOKEN = os.getenv('TWITCH_BOT_TOKEN')\n",
    "TWITCH_CHANNEL = os.getenv('TWITCH_CHANNEL')"
   ]
  },
  {
   "cell_type": "code",
   "execution_count": null,
   "id": "4cc81334-69a9-449e-96b1-dceb1a74606b",
   "metadata": {},
   "outputs": [],
   "source": [
    "# scrape/download wiki (Optional if wiki_data.txt exists)\n",
    "%run wiki_scraper.py"
   ]
  },
  {
   "cell_type": "code",
   "execution_count": null,
   "id": "171b05a0-b012-4d54-8b0a-bd39873e8340",
   "metadata": {
    "scrolled": true
   },
   "outputs": [],
   "source": [
    "# build Chroma index\n",
    "%run index_builder.py"
   ]
  },
  {
   "cell_type": "code",
   "execution_count": null,
   "id": "7381017e-af4b-4133-a699-82b783a04389",
   "metadata": {
    "scrolled": true
   },
   "outputs": [
    {
     "name": "stdout",
     "output_type": "stream",
     "text": [
      "Logged in as | apetalous42\n",
      "User id is | 96897290\n",
      "Message received: !ror2 how do I get a blue portal? from apetalous43\n",
      "ChatCompletion(id='chatcmpl-AvZvxPXiMjZ1J1Sz0PZ8j3rVFJUBS', choices=[Choice(finish_reason='stop', index=0, logprobs=None, message=ChatCompletionMessage(content='To access a blue portal in Risk of Rain 2, you need to find a Lunar item, which is obtained by spending Lunar Coins at the Bazaar Between Time. The blue portal typically appears after a specific event or condition is met, such as defeating a boss and having enough Lunar Coins.', refusal=None, role='assistant', audio=None, function_call=None, tool_calls=None))], created=1738286189, model='gpt-4o-mini-2024-07-18', object='chat.completion', service_tier='default', system_fingerprint='fp_72ed7ab54c', usage=CompletionUsage(completion_tokens=59, prompt_tokens=968, total_tokens=1027, completion_tokens_details=CompletionTokensDetails(accepted_prediction_tokens=0, audio_tokens=0, reasoning_tokens=0, rejected_prediction_tokens=0), prompt_tokens_details=PromptTokensDetails(audio_tokens=0, cached_tokens=0)))\n"
     ]
    }
   ],
   "source": [
    "# launch bot\n",
    "%run bot.py"
   ]
  },
  {
   "cell_type": "code",
   "execution_count": null,
   "id": "f3b0893f-3dca-4c00-84c4-3d3a47adf671",
   "metadata": {},
   "outputs": [],
   "source": []
  }
 ],
 "metadata": {
  "kernelspec": {
   "display_name": "Python 3 (ipykernel)",
   "language": "python",
   "name": "python3"
  },
  "language_info": {
   "codemirror_mode": {
    "name": "ipython",
    "version": 3
   },
   "file_extension": ".py",
   "mimetype": "text/x-python",
   "name": "python",
   "nbconvert_exporter": "python",
   "pygments_lexer": "ipython3",
   "version": "3.12.7"
  }
 },
 "nbformat": 4,
 "nbformat_minor": 5
}
